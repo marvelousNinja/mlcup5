{
 "cells": [
  {
   "cell_type": "code",
   "execution_count": 58,
   "metadata": {
    "collapsed": false
   },
   "outputs": [
    {
     "name": "stdout",
     "output_type": "stream",
     "text": [
      "XGBClassifier(base_score=0.5, colsample_bylevel=1, colsample_bytree=1,\n",
      "       gamma=0, learning_rate=0.1, max_delta_step=0, max_depth=5,\n",
      "       min_child_weight=1, missing=None, n_estimators=100, nthread=-1,\n",
      "       objective='binary:logistic', reg_alpha=0, reg_lambda=1,\n",
      "       scale_pos_weight=1, seed=0, silent=True, subsample=1)\n",
      "0.547294672541\n",
      "0.731628571429\n",
      "             precision    recall  f1-score   support\n",
      "\n",
      "          0       0.72      0.77      0.74     35021\n",
      "          1       0.75      0.69      0.72     34979\n",
      "\n",
      "avg / total       0.73      0.73      0.73     70000\n",
      "\n"
     ]
    }
   ],
   "source": [
    "import pandas as pd\n",
    "import numpy as np\n",
    "from sklearn.feature_extraction.text import CountVectorizer\n",
    "\n",
    "train = pd.read_csv('./train.csv', sep=';')\n",
    "test = pd.read_csv('./test.csv', sep=';')\n",
    "\n",
    "answer = train.cardio\n",
    "\n",
    "complete = pd.concat([train, test])\n",
    "complete = complete.drop(['id', 'cardio'], axis=1)\n",
    "complete.loc[complete['active'] == 'None', 'active'] = np.NaN\n",
    "complete.loc[complete['alco'] == 'None', 'alco'] = np.NaN\n",
    "complete.loc[complete['smoke'] == 'None', 'smoke'] = np.NaN\n",
    "complete['active'] = complete['active'].astype('float')\n",
    "complete['alco'] = complete['alco'].astype('float')\n",
    "complete['smoke'] = complete['smoke'].astype('float')\n",
    "\n",
    "vectorizer = CountVectorizer(analyzer='char', ngram_range=(2,2))\n",
    "vect_ap = pd.DataFrame(vectorizer.fit_transform(complete.ap_hi.astype('str') + complete.ap_lo.astype('str')).A)\n",
    "complete = complete.drop(['ap_hi', 'ap_lo'], axis=1) \n",
    "\n",
    "complete = pd.concat([\n",
    "    vect_ap,\n",
    "    pd.DataFrame(complete.values)\n",
    "], axis=1, ignore_index=True)\n",
    " \n",
    "train = complete.head(len(train))\n",
    "test = complete.tail(len(test))\n",
    "\n",
    "from lightgbm.sklearn import LGBMClassifier\n",
    "from xgboost.sklearn import XGBClassifier\n",
    "from sklearn.ensemble import GradientBoostingClassifier\n",
    "from sklearn.metrics import classification_report, accuracy_score, log_loss\n",
    "from sklearn.model_selection import cross_val_predict, learning_curve\n",
    "\n",
    "model = XGBClassifier(max_depth=5)\n",
    "print model\n",
    "predictions = cross_val_predict(model, train, answer, cv=5)\n",
    "proba_predictions = cross_val_predict(model, train, answer, cv=5, method='predict_proba')\n",
    "\n",
    "print log_loss(answer, proba_predictions)\n",
    "print accuracy_score(answer, predictions)\n",
    "print classification_report(answer, predictions)"
   ]
  },
  {
   "cell_type": "code",
   "execution_count": 51,
   "metadata": {
    "collapsed": true
   },
   "outputs": [],
   "source": [
    "import time\n",
    "\n",
    "model.fit(train, answer)\n",
    "proba_predictions = model.predict_proba(test)\n",
    "\n",
    "submission_response = pd.DataFrame({\n",
    "    'y': proba_predictions[:,1]\n",
    "})\n",
    "\n",
    "timestr = time.strftime(\"%Y%m%d_%H%M\")\n",
    "pd.DataFrame(submission_response).to_csv('./outputs/typos.' + timestr + '.csv', header=False, index=False, line_terminator=\"\\n\")\n",
    "pd.DataFrame(submission_response).to_csv('./outputs/_typos.latest.csv', header=False, index=False, line_terminator=\"\\n\")"
   ]
  },
  {
   "cell_type": "code",
   "execution_count": null,
   "metadata": {
    "collapsed": true
   },
   "outputs": [],
   "source": []
  }
 ],
 "metadata": {
  "kernelspec": {
   "display_name": "Python 2",
   "language": "python",
   "name": "python2"
  },
  "language_info": {
   "codemirror_mode": {
    "name": "ipython",
    "version": 2
   },
   "file_extension": ".py",
   "mimetype": "text/x-python",
   "name": "python",
   "nbconvert_exporter": "python",
   "pygments_lexer": "ipython2",
   "version": "2.7.10"
  }
 },
 "nbformat": 4,
 "nbformat_minor": 2
}
